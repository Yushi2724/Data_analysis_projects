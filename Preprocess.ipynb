{
 "cells": [
  {
   "cell_type": "code",
   "execution_count": 3,
   "id": "617c7a68",
   "metadata": {},
   "outputs": [
    {
     "name": "stdout",
     "output_type": "stream",
     "text": [
      "Collecting pandas\n",
      "  Using cached pandas-2.3.2-cp313-cp313-win_amd64.whl.metadata (19 kB)\n",
      "Collecting numpy>=1.26.0 (from pandas)\n",
      "  Using cached numpy-2.3.2-cp313-cp313-win_amd64.whl.metadata (60 kB)\n",
      "Requirement already satisfied: python-dateutil>=2.8.2 in c:\\users\\arush\\onedrive\\desktop\\da projects\\.venv\\lib\\site-packages (from pandas) (2.9.0.post0)\n",
      "Collecting pytz>=2020.1 (from pandas)\n",
      "  Using cached pytz-2025.2-py2.py3-none-any.whl.metadata (22 kB)\n",
      "Collecting tzdata>=2022.7 (from pandas)\n",
      "  Using cached tzdata-2025.2-py2.py3-none-any.whl.metadata (1.4 kB)\n",
      "Requirement already satisfied: six>=1.5 in c:\\users\\arush\\onedrive\\desktop\\da projects\\.venv\\lib\\site-packages (from python-dateutil>=2.8.2->pandas) (1.17.0)\n",
      "Using cached pandas-2.3.2-cp313-cp313-win_amd64.whl (11.0 MB)\n",
      "Using cached numpy-2.3.2-cp313-cp313-win_amd64.whl (12.8 MB)\n",
      "Using cached pytz-2025.2-py2.py3-none-any.whl (509 kB)\n",
      "Using cached tzdata-2025.2-py2.py3-none-any.whl (347 kB)\n",
      "Installing collected packages: pytz, tzdata, numpy, pandas\n",
      "Successfully installed numpy-2.3.2 pandas-2.3.2 pytz-2025.2 tzdata-2025.2\n"
     ]
    },
    {
     "name": "stderr",
     "output_type": "stream",
     "text": [
      "\n",
      "[notice] A new release of pip is available: 24.3.1 -> 25.2\n",
      "[notice] To update, run: python.exe -m pip install --upgrade pip\n"
     ]
    }
   ],
   "source": [
    "!pip install pandas"
   ]
  },
  {
   "cell_type": "code",
   "execution_count": 6,
   "id": "b1308764",
   "metadata": {},
   "outputs": [
    {
     "name": "stderr",
     "output_type": "stream",
     "text": [
      "<>:2: SyntaxWarning: invalid escape sequence '\\S'\n",
      "<>:2: SyntaxWarning: invalid escape sequence '\\S'\n",
      "C:\\Users\\arush\\AppData\\Local\\Temp\\ipykernel_18500\\3676750049.py:2: SyntaxWarning: invalid escape sequence '\\S'\n",
      "  df=pd.read_csv(\"DataSets\\Salary-Dataset.csv\")\n"
     ]
    },
    {
     "data": {
      "text/html": [
       "<div>\n",
       "<style scoped>\n",
       "    .dataframe tbody tr th:only-of-type {\n",
       "        vertical-align: middle;\n",
       "    }\n",
       "\n",
       "    .dataframe tbody tr th {\n",
       "        vertical-align: top;\n",
       "    }\n",
       "\n",
       "    .dataframe thead th {\n",
       "        text-align: right;\n",
       "    }\n",
       "</style>\n",
       "<table border=\"1\" class=\"dataframe\">\n",
       "  <thead>\n",
       "    <tr style=\"text-align: right;\">\n",
       "      <th></th>\n",
       "      <th>Unnamed: 0</th>\n",
       "      <th>Job Title</th>\n",
       "      <th>Salary Estimate</th>\n",
       "      <th>Job Description</th>\n",
       "      <th>Rating</th>\n",
       "      <th>Company Name</th>\n",
       "      <th>Location</th>\n",
       "      <th>Size</th>\n",
       "      <th>Founded</th>\n",
       "      <th>Type of ownership</th>\n",
       "      <th>Industry</th>\n",
       "      <th>Sector</th>\n",
       "      <th>Revenue</th>\n",
       "    </tr>\n",
       "  </thead>\n",
       "  <tbody>\n",
       "    <tr>\n",
       "      <th>0</th>\n",
       "      <td>0</td>\n",
       "      <td>Data Scientist</td>\n",
       "      <td>$113K – $160K/yr (Employer est.)</td>\n",
       "      <td>Company Description\\n\\nVisa is a world leader ...</td>\n",
       "      <td>4.1</td>\n",
       "      <td>Visa</td>\n",
       "      <td>Washington, DC</td>\n",
       "      <td>10000+ Employees</td>\n",
       "      <td>1958</td>\n",
       "      <td>Company - Public</td>\n",
       "      <td>Information Technology Support Services</td>\n",
       "      <td>Information Technology</td>\n",
       "      <td>$10+ billion (USD)</td>\n",
       "    </tr>\n",
       "    <tr>\n",
       "      <th>1</th>\n",
       "      <td>1</td>\n",
       "      <td>Data Scientist</td>\n",
       "      <td>$104K – $145K/yr (Employer est.)</td>\n",
       "      <td>At Johnson &amp; Johnson , we believe health is ev...</td>\n",
       "      <td>4.2</td>\n",
       "      <td>Johnson &amp; Johnson</td>\n",
       "      <td>Titusville, NJ</td>\n",
       "      <td>10000+ Employees</td>\n",
       "      <td>1887</td>\n",
       "      <td>Company - Public</td>\n",
       "      <td>Biotech &amp; Pharmaceuticals</td>\n",
       "      <td>Pharmaceutical &amp; Biotechnology</td>\n",
       "      <td>$10+ billion (USD)</td>\n",
       "    </tr>\n",
       "    <tr>\n",
       "      <th>2</th>\n",
       "      <td>2</td>\n",
       "      <td>Data Scientist</td>\n",
       "      <td>-1</td>\n",
       "      <td>Description:\\nThe Data Scientist role combines...</td>\n",
       "      <td>3.4</td>\n",
       "      <td>OPERATION SMILE INC</td>\n",
       "      <td>Remote</td>\n",
       "      <td>51 to 200 Employees</td>\n",
       "      <td>1982</td>\n",
       "      <td>Nonprofit Organization</td>\n",
       "      <td>Civic &amp; Social Services</td>\n",
       "      <td>Nonprofit &amp; NGO</td>\n",
       "      <td>$25 to $100 million (USD)</td>\n",
       "    </tr>\n",
       "    <tr>\n",
       "      <th>3</th>\n",
       "      <td>3</td>\n",
       "      <td>Growth Data Scientist</td>\n",
       "      <td>$108K – $192K/yr (Employer est.)</td>\n",
       "      <td>NaN</td>\n",
       "      <td>4.3</td>\n",
       "      <td>Adobe</td>\n",
       "      <td>San Jose, CA</td>\n",
       "      <td>10000+ Employees</td>\n",
       "      <td>1982</td>\n",
       "      <td>Company - Public</td>\n",
       "      <td>Computer Hardware Development</td>\n",
       "      <td>Information Technology</td>\n",
       "      <td>$10+ billion (USD)</td>\n",
       "    </tr>\n",
       "    <tr>\n",
       "      <th>4</th>\n",
       "      <td>4</td>\n",
       "      <td>TikTok Product Analysis - Data Scientist</td>\n",
       "      <td>$201K – $296K/yr (Employer est.)</td>\n",
       "      <td>NaN</td>\n",
       "      <td>3.4</td>\n",
       "      <td>TikTok</td>\n",
       "      <td>San Jose, CA</td>\n",
       "      <td>1001 to 5000 Employees</td>\n",
       "      <td>2016</td>\n",
       "      <td>Company - Private</td>\n",
       "      <td>Internet &amp; Web Services</td>\n",
       "      <td>Information Technology</td>\n",
       "      <td>Unknown / Non-Applicable</td>\n",
       "    </tr>\n",
       "  </tbody>\n",
       "</table>\n",
       "</div>"
      ],
      "text/plain": [
       "   Unnamed: 0                                 Job Title  \\\n",
       "0           0                            Data Scientist   \n",
       "1           1                            Data Scientist   \n",
       "2           2                            Data Scientist   \n",
       "3           3                     Growth Data Scientist   \n",
       "4           4  TikTok Product Analysis - Data Scientist   \n",
       "\n",
       "                    Salary Estimate  \\\n",
       "0  $113K – $160K/yr (Employer est.)   \n",
       "1  $104K – $145K/yr (Employer est.)   \n",
       "2                                -1   \n",
       "3  $108K – $192K/yr (Employer est.)   \n",
       "4  $201K – $296K/yr (Employer est.)   \n",
       "\n",
       "                                     Job Description  Rating  \\\n",
       "0  Company Description\\n\\nVisa is a world leader ...     4.1   \n",
       "1  At Johnson & Johnson , we believe health is ev...     4.2   \n",
       "2  Description:\\nThe Data Scientist role combines...     3.4   \n",
       "3                                                NaN     4.3   \n",
       "4                                                NaN     3.4   \n",
       "\n",
       "          Company Name        Location                    Size Founded  \\\n",
       "0                 Visa  Washington, DC        10000+ Employees    1958   \n",
       "1    Johnson & Johnson  Titusville, NJ        10000+ Employees    1887   \n",
       "2  OPERATION SMILE INC          Remote     51 to 200 Employees    1982   \n",
       "3                Adobe    San Jose, CA        10000+ Employees    1982   \n",
       "4               TikTok    San Jose, CA  1001 to 5000 Employees    2016   \n",
       "\n",
       "        Type of ownership                                 Industry  \\\n",
       "0        Company - Public  Information Technology Support Services   \n",
       "1        Company - Public                Biotech & Pharmaceuticals   \n",
       "2  Nonprofit Organization                  Civic & Social Services   \n",
       "3        Company - Public            Computer Hardware Development   \n",
       "4       Company - Private                  Internet & Web Services   \n",
       "\n",
       "                           Sector                    Revenue  \n",
       "0          Information Technology         $10+ billion (USD)  \n",
       "1  Pharmaceutical & Biotechnology         $10+ billion (USD)  \n",
       "2                 Nonprofit & NGO  $25 to $100 million (USD)  \n",
       "3          Information Technology         $10+ billion (USD)  \n",
       "4          Information Technology   Unknown / Non-Applicable  "
      ]
     },
     "execution_count": 6,
     "metadata": {},
     "output_type": "execute_result"
    }
   ],
   "source": [
    "import pandas as pd\n",
    "df=pd.read_csv(\"DataSets\\Salary-Dataset.csv\")\n",
    "df.head()\n"
   ]
  },
  {
   "cell_type": "code",
   "execution_count": 7,
   "id": "03a85b82",
   "metadata": {},
   "outputs": [
    {
     "name": "stdout",
     "output_type": "stream",
     "text": [
      "Unnamed: 0             0\n",
      "Job Title              0\n",
      "Salary Estimate        0\n",
      "Job Description      207\n",
      "Rating                 0\n",
      "Company Name           0\n",
      "Location               0\n",
      "Size                   0\n",
      "Founded                0\n",
      "Type of ownership      0\n",
      "Industry               0\n",
      "Sector                 0\n",
      "Revenue                0\n",
      "dtype: int64\n",
      "Unnamed: 0           0\n",
      "Job Title            0\n",
      "Salary Estimate      0\n",
      "Job Description      0\n",
      "Rating               0\n",
      "Company Name         0\n",
      "Location             0\n",
      "Size                 0\n",
      "Founded              0\n",
      "Type of ownership    0\n",
      "Industry             0\n",
      "Sector               0\n",
      "Revenue              0\n",
      "dtype: int64\n"
     ]
    }
   ],
   "source": [
    "print(df.isnull().sum())\n",
    "print((df == '').sum())"
   ]
  },
  {
   "cell_type": "code",
   "execution_count": 8,
   "id": "7c2d1ab0",
   "metadata": {},
   "outputs": [
    {
     "data": {
      "text/plain": [
       "np.int64(0)"
      ]
     },
     "execution_count": 8,
     "metadata": {},
     "output_type": "execute_result"
    }
   ],
   "source": [
    "df['Job Description'].fillna(\"Not provided\", inplace=True)\n",
    "df['Job Description'].isnull().sum()"
   ]
  },
  {
   "cell_type": "code",
   "execution_count": 9,
   "id": "45289ccc",
   "metadata": {},
   "outputs": [],
   "source": [
    "df['Salary Estimate'].replace(-1,'Not Disclosed',inplace=True)"
   ]
  },
  {
   "cell_type": "code",
   "execution_count": 11,
   "id": "b06d6abf",
   "metadata": {},
   "outputs": [
    {
     "data": {
      "text/plain": [
       "Index(['Job Title', 'Salary Estimate', 'Job Description', 'Rating',\n",
       "       'Company Name', 'Location', 'Size', 'Founded', 'Type of ownership',\n",
       "       'Industry', 'Sector', 'Revenue'],\n",
       "      dtype='object')"
      ]
     },
     "execution_count": 11,
     "metadata": {},
     "output_type": "execute_result"
    }
   ],
   "source": [
    "df.drop(columns=['Unnamed: 0'],inplace=True)\n",
    "df.columns"
   ]
  },
  {
   "cell_type": "code",
   "execution_count": 12,
   "id": "9d6ea755",
   "metadata": {},
   "outputs": [
    {
     "data": {
      "text/plain": [
       "np.int64(0)"
      ]
     },
     "execution_count": 12,
     "metadata": {},
     "output_type": "execute_result"
    }
   ],
   "source": [
    "df.drop_duplicates(inplace=True)\n",
    "df.duplicated().sum()"
   ]
  },
  {
   "cell_type": "code",
   "execution_count": 13,
   "id": "77d37a06",
   "metadata": {},
   "outputs": [],
   "source": [
    "import re\n",
    "def extract_salary(s):\n",
    "    match=re.findall(r'\\$(\\d+)[Kk]',s)\n",
    "    return(int(match[0]),int(match[1])) if len(match) == 2 else(None,None)\n",
    "df['Min Salary'],df['Max Salary'] = zip(*df['Salary Estimate'].apply(extract_salary))"
   ]
  },
  {
   "cell_type": "code",
   "execution_count": 14,
   "id": "ac245d5e",
   "metadata": {},
   "outputs": [
    {
     "name": "stdout",
     "output_type": "stream",
     "text": [
      "float64\n",
      "float64\n"
     ]
    }
   ],
   "source": [
    "df['Min Salary'] = pd.to_numeric(df['Min Salary'])\n",
    "df['Max Salary'] = pd.to_numeric(df['Max Salary'])\n",
    "\n",
    "print(df['Min Salary'].dtype)\n",
    "print(df['Max Salary'].dtype)"
   ]
  },
  {
   "cell_type": "code",
   "execution_count": 15,
   "id": "29c0a89e",
   "metadata": {},
   "outputs": [],
   "source": [
    "df['Min Salary']=df['Min Salary'].fillna(df['Min Salary'].median()).astype(int)\n",
    "df['Max Salary']=df['Max Salary'].fillna(df['Max Salary'].median()).astype(int)"
   ]
  },
  {
   "cell_type": "code",
   "execution_count": 16,
   "id": "d32805ae",
   "metadata": {},
   "outputs": [
    {
     "data": {
      "text/html": [
       "<div>\n",
       "<style scoped>\n",
       "    .dataframe tbody tr th:only-of-type {\n",
       "        vertical-align: middle;\n",
       "    }\n",
       "\n",
       "    .dataframe tbody tr th {\n",
       "        vertical-align: top;\n",
       "    }\n",
       "\n",
       "    .dataframe thead th {\n",
       "        text-align: right;\n",
       "    }\n",
       "</style>\n",
       "<table border=\"1\" class=\"dataframe\">\n",
       "  <thead>\n",
       "    <tr style=\"text-align: right;\">\n",
       "      <th></th>\n",
       "      <th>Job Title</th>\n",
       "      <th>Salary Estimate</th>\n",
       "      <th>Job Description</th>\n",
       "      <th>Rating</th>\n",
       "      <th>Company Name</th>\n",
       "      <th>Location</th>\n",
       "      <th>Size</th>\n",
       "      <th>Founded</th>\n",
       "      <th>Type of ownership</th>\n",
       "      <th>Industry</th>\n",
       "      <th>Sector</th>\n",
       "      <th>Revenue</th>\n",
       "      <th>Min Salary</th>\n",
       "      <th>Max Salary</th>\n",
       "    </tr>\n",
       "  </thead>\n",
       "  <tbody>\n",
       "    <tr>\n",
       "      <th>0</th>\n",
       "      <td>Data Scientist</td>\n",
       "      <td>$113K – $160K/yr (Employer est.)</td>\n",
       "      <td>Company Description\\n\\nVisa is a world leader ...</td>\n",
       "      <td>4.1</td>\n",
       "      <td>Visa</td>\n",
       "      <td>Washington, DC</td>\n",
       "      <td>10000+ Employees</td>\n",
       "      <td>1958</td>\n",
       "      <td>Company - Public</td>\n",
       "      <td>Information Technology Support Services</td>\n",
       "      <td>Information Technology</td>\n",
       "      <td>$10+ billion (USD)</td>\n",
       "      <td>113</td>\n",
       "      <td>160</td>\n",
       "    </tr>\n",
       "    <tr>\n",
       "      <th>1</th>\n",
       "      <td>Data Scientist</td>\n",
       "      <td>$104K – $145K/yr (Employer est.)</td>\n",
       "      <td>At Johnson &amp; Johnson , we believe health is ev...</td>\n",
       "      <td>4.2</td>\n",
       "      <td>Johnson &amp; Johnson</td>\n",
       "      <td>Titusville, NJ</td>\n",
       "      <td>10000+ Employees</td>\n",
       "      <td>1887</td>\n",
       "      <td>Company - Public</td>\n",
       "      <td>Biotech &amp; Pharmaceuticals</td>\n",
       "      <td>Pharmaceutical &amp; Biotechnology</td>\n",
       "      <td>$10+ billion (USD)</td>\n",
       "      <td>104</td>\n",
       "      <td>145</td>\n",
       "    </tr>\n",
       "    <tr>\n",
       "      <th>2</th>\n",
       "      <td>Data Scientist</td>\n",
       "      <td>-1</td>\n",
       "      <td>Description:\\nThe Data Scientist role combines...</td>\n",
       "      <td>3.4</td>\n",
       "      <td>OPERATION SMILE INC</td>\n",
       "      <td>Remote</td>\n",
       "      <td>51 to 200 Employees</td>\n",
       "      <td>1982</td>\n",
       "      <td>Nonprofit Organization</td>\n",
       "      <td>Civic &amp; Social Services</td>\n",
       "      <td>Nonprofit &amp; NGO</td>\n",
       "      <td>$25 to $100 million (USD)</td>\n",
       "      <td>118</td>\n",
       "      <td>186</td>\n",
       "    </tr>\n",
       "    <tr>\n",
       "      <th>3</th>\n",
       "      <td>Growth Data Scientist</td>\n",
       "      <td>$108K – $192K/yr (Employer est.)</td>\n",
       "      <td>Not provided</td>\n",
       "      <td>4.3</td>\n",
       "      <td>Adobe</td>\n",
       "      <td>San Jose, CA</td>\n",
       "      <td>10000+ Employees</td>\n",
       "      <td>1982</td>\n",
       "      <td>Company - Public</td>\n",
       "      <td>Computer Hardware Development</td>\n",
       "      <td>Information Technology</td>\n",
       "      <td>$10+ billion (USD)</td>\n",
       "      <td>108</td>\n",
       "      <td>192</td>\n",
       "    </tr>\n",
       "    <tr>\n",
       "      <th>4</th>\n",
       "      <td>TikTok Product Analysis - Data Scientist</td>\n",
       "      <td>$201K – $296K/yr (Employer est.)</td>\n",
       "      <td>Not provided</td>\n",
       "      <td>3.4</td>\n",
       "      <td>TikTok</td>\n",
       "      <td>San Jose, CA</td>\n",
       "      <td>1001 to 5000 Employees</td>\n",
       "      <td>2016</td>\n",
       "      <td>Company - Private</td>\n",
       "      <td>Internet &amp; Web Services</td>\n",
       "      <td>Information Technology</td>\n",
       "      <td>Unknown / Non-Applicable</td>\n",
       "      <td>201</td>\n",
       "      <td>296</td>\n",
       "    </tr>\n",
       "  </tbody>\n",
       "</table>\n",
       "</div>"
      ],
      "text/plain": [
       "                                  Job Title                   Salary Estimate  \\\n",
       "0                            Data Scientist  $113K – $160K/yr (Employer est.)   \n",
       "1                            Data Scientist  $104K – $145K/yr (Employer est.)   \n",
       "2                            Data Scientist                                -1   \n",
       "3                     Growth Data Scientist  $108K – $192K/yr (Employer est.)   \n",
       "4  TikTok Product Analysis - Data Scientist  $201K – $296K/yr (Employer est.)   \n",
       "\n",
       "                                     Job Description  Rating  \\\n",
       "0  Company Description\\n\\nVisa is a world leader ...     4.1   \n",
       "1  At Johnson & Johnson , we believe health is ev...     4.2   \n",
       "2  Description:\\nThe Data Scientist role combines...     3.4   \n",
       "3                                       Not provided     4.3   \n",
       "4                                       Not provided     3.4   \n",
       "\n",
       "          Company Name        Location                    Size Founded  \\\n",
       "0                 Visa  Washington, DC        10000+ Employees    1958   \n",
       "1    Johnson & Johnson  Titusville, NJ        10000+ Employees    1887   \n",
       "2  OPERATION SMILE INC          Remote     51 to 200 Employees    1982   \n",
       "3                Adobe    San Jose, CA        10000+ Employees    1982   \n",
       "4               TikTok    San Jose, CA  1001 to 5000 Employees    2016   \n",
       "\n",
       "        Type of ownership                                 Industry  \\\n",
       "0        Company - Public  Information Technology Support Services   \n",
       "1        Company - Public                Biotech & Pharmaceuticals   \n",
       "2  Nonprofit Organization                  Civic & Social Services   \n",
       "3        Company - Public            Computer Hardware Development   \n",
       "4       Company - Private                  Internet & Web Services   \n",
       "\n",
       "                           Sector                    Revenue  Min Salary  \\\n",
       "0          Information Technology         $10+ billion (USD)         113   \n",
       "1  Pharmaceutical & Biotechnology         $10+ billion (USD)         104   \n",
       "2                 Nonprofit & NGO  $25 to $100 million (USD)         118   \n",
       "3          Information Technology         $10+ billion (USD)         108   \n",
       "4          Information Technology   Unknown / Non-Applicable         201   \n",
       "\n",
       "   Max Salary  \n",
       "0         160  \n",
       "1         145  \n",
       "2         186  \n",
       "3         192  \n",
       "4         296  "
      ]
     },
     "execution_count": 16,
     "metadata": {},
     "output_type": "execute_result"
    }
   ],
   "source": [
    "df.head()"
   ]
  },
  {
   "cell_type": "code",
   "execution_count": 17,
   "id": "b057ce03",
   "metadata": {},
   "outputs": [],
   "source": [
    "df.to_csv(\"cleaned_glassdoor_jobs.csv\", index=False)"
   ]
  }
 ],
 "metadata": {
  "kernelspec": {
   "display_name": ".venv (3.13.1)",
   "language": "python",
   "name": "python3"
  },
  "language_info": {
   "codemirror_mode": {
    "name": "ipython",
    "version": 3
   },
   "file_extension": ".py",
   "mimetype": "text/x-python",
   "name": "python",
   "nbconvert_exporter": "python",
   "pygments_lexer": "ipython3",
   "version": "3.13.1"
  }
 },
 "nbformat": 4,
 "nbformat_minor": 5
}
